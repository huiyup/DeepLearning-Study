{
 "cells": [
  {
   "cell_type": "markdown",
   "metadata": {},
   "source": [
    "### 1. 标签Label和按钮Button"
   ]
  },
  {
   "cell_type": "code",
   "execution_count": 6,
   "metadata": {
    "collapsed": false
   },
   "outputs": [],
   "source": [
    "import tkinter as tk\n",
    "\n",
    "window = tk.Tk()\n",
    "window.title('my window')\n",
    "window.geometry('200x100')\n",
    "\n",
    "var = tk.StringVar()\n",
    "\n",
    "l = tk.Label(window, textvariable = var, bg = 'green', font = ('Arial',12), width = 15, height = 2)\n",
    "l.pack()\n",
    "\n",
    "on_hit = False\n",
    "def hit_me():\n",
    "    global on_hit\n",
    "    if on_hit == False:\n",
    "        on_hit = True\n",
    "        var.set('you hit me')\n",
    "    else:\n",
    "        on_hit = False\n",
    "        var.set('')\n",
    "\n",
    "b  = tk.Button(window, text = 'hit me', width = 15, height = 2, command = hit_me)\n",
    "b.pack()\n",
    "\n",
    "window.mainloop()"
   ]
  },
  {
   "cell_type": "markdown",
   "metadata": {
    "collapsed": true
   },
   "source": [
    "### 2.输入Entry和文本框Text"
   ]
  },
  {
   "cell_type": "code",
   "execution_count": 3,
   "metadata": {
    "collapsed": false
   },
   "outputs": [],
   "source": [
    "import tkinter as tk\n",
    "\n",
    "window = tk.Tk()\n",
    "window.title('my window')\n",
    "window.geometry('200x200')\n",
    "\n",
    "e = tk.Entry(window, show=None) #show = '*'则输入的所有东西均为星号\n",
    "e.pack()\n",
    "\n",
    "def insert_point():\n",
    "    var = e.get()\n",
    "    t.insert('insert',var) # 放在鼠标指针的地方，也可以用1.1来指定放在1行一列\n",
    "    \n",
    "def insert_end():\n",
    "    var = e.get()\n",
    "    t.insert('end',var) # 放在尾部\n",
    "\n",
    "\n",
    "b1  = tk.Button(window, text = 'insert point', width = 15, height = 2, command = insert_point)\n",
    "b1.pack()\n",
    "b2  = tk.Button(window, text = 'insert end', width = 15, height = 2, command = insert_end)\n",
    "b2.pack()\n",
    "\n",
    "t = tk.Text(window, height = 2)\n",
    "t.pack()\n",
    "\n",
    "window.mainloop()"
   ]
  },
  {
   "cell_type": "markdown",
   "metadata": {},
   "source": [
    "### 3.ListBox列表部件"
   ]
  },
  {
   "cell_type": "code",
   "execution_count": 10,
   "metadata": {
    "collapsed": false
   },
   "outputs": [],
   "source": [
    "import tkinter as tk\n",
    "\n",
    "window = tk.Tk()\n",
    "window.title('my window')\n",
    "window.geometry('200x200')\n",
    "\n",
    "\n",
    "var1 = tk.StringVar()\n",
    "l = tk.Label(window, bg = 'yellow', width = 4, textvariable = var1)\n",
    "l.pack()\n",
    "\n",
    "def print_selection():\n",
    "    value = lb.get(lb.curselection())\n",
    "    var1.set(value)\n",
    "\n",
    "b  = tk.Button(window, text = 'print selection', width = 15, height = 2, command = print_selection)\n",
    "b.pack()\n",
    "\n",
    "var2 = tk.StringVar()\n",
    "var2.set((11,22,33,44))\n",
    "\n",
    "lb = tk.Listbox(window,listvariable=var2)\n",
    "list_items = [1,2,3,4]\n",
    "for item in list_items:\n",
    "    lb.insert('end',item)\n",
    "lb.insert(1,'first') # 在第一位插入一个first\n",
    "lb.insert(2,'second') # 在第二位插入一个second\n",
    "lb.delete(2) # 删除第二位\n",
    "lb.pack()\n",
    "\n",
    "window.mainloop()"
   ]
  },
  {
   "cell_type": "markdown",
   "metadata": {},
   "source": [
    "### 4.Radiobutton选择按钮"
   ]
  },
  {
   "cell_type": "code",
   "execution_count": 16,
   "metadata": {
    "collapsed": false
   },
   "outputs": [],
   "source": [
    "import tkinter as tk\n",
    "\n",
    "window = tk.Tk()\n",
    "window.title('my window')\n",
    "window.geometry('200x200')\n",
    "\n",
    "var = tk.StringVar()\n",
    "l = tk.Label(window, bg = 'yellow', width = 20, text = 'empty')\n",
    "l.pack()\n",
    "\n",
    "def print_selection():\n",
    "    l.config(text='you have selected ' + var.get())\n",
    "    \n",
    "r1 = tk.Radiobutton(window, text='OptionA',variable=var, value='A',command = print_selection)\n",
    "r1.pack()\n",
    "r2 = tk.Radiobutton(window, text='OptionB',variable=var, value='B',command = print_selection)\n",
    "r2.pack()\n",
    "r3 = tk.Radiobutton(window, text='OptionC',variable=var, value='C',command = print_selection)\n",
    "r3.pack()\n",
    "\n",
    "window.mainloop()"
   ]
  },
  {
   "cell_type": "markdown",
   "metadata": {},
   "source": [
    "### 5.Scale尺度"
   ]
  },
  {
   "cell_type": "code",
   "execution_count": 18,
   "metadata": {
    "collapsed": false
   },
   "outputs": [],
   "source": [
    "import tkinter as tk\n",
    "\n",
    "window = tk.Tk()\n",
    "window.title('my window')\n",
    "window.geometry('200x200')\n",
    "\n",
    "l = tk.Label(window, bg = 'yellow', width = 20, text = 'empty')\n",
    "l.pack()\n",
    "\n",
    "def print_selection(v): # tk.Scale默认有一个传入值\n",
    "    l.config(text='you have selected ' + v)\n",
    "    \n",
    "\n",
    "'''\n",
    "showvalue：是否在上面显示当前的值，False为0，True为1\n",
    "tickinterval：隔几个数设置一个单位\n",
    "resolution：小数点的个数\n",
    "'''\n",
    "s = tk.Scale(window,label = 'try me', from_=5, to=11, orient=tk.HORIZONTAL, \n",
    "             length=200, showvalue=1, tickinterval = 3, resolution = 0.01, command=print_selection)\n",
    "s.pack()\n",
    "\n",
    "window.mainloop()"
   ]
  },
  {
   "cell_type": "markdown",
   "metadata": {},
   "source": [
    "### 6.CheckButton勾选项"
   ]
  },
  {
   "cell_type": "code",
   "execution_count": 23,
   "metadata": {
    "collapsed": false
   },
   "outputs": [],
   "source": [
    "import tkinter as tk\n",
    "\n",
    "window = tk.Tk()\n",
    "window.title('my window')\n",
    "window.geometry('200x200')\n",
    "\n",
    "l = tk.Label(window, bg = 'yellow', width = 20, text = 'empty')\n",
    "l.pack()\n",
    "\n",
    "def print_selection(): \n",
    "    if(var1.get()==1)&(var2.get()==0):\n",
    "        l.config(text='I love only python')\n",
    "    elif(var1.get()==0)&(var2.get()==1):\n",
    "        l.config(text='I love only C++')\n",
    "    elif(var1.get()==0)&(var2.get()==0):\n",
    "        l.config(text='I do not love either')\n",
    "    else:\n",
    "        l.config(text='I love both')\n",
    "    \n",
    "var1 = tk.IntVar()\n",
    "var2 = tk.IntVar()\n",
    "c1 = tk.Checkbutton(window, text='Python',variable = var1,onvalue=1,offvalue=0,command=print_selection)\n",
    "c2 = tk.Checkbutton(window, text='C++',variable = var2,onvalue=1,offvalue=0,command=print_selection)\n",
    "c1.pack()\n",
    "c2.pack()\n",
    "\n",
    "window.mainloop()"
   ]
  },
  {
   "cell_type": "markdown",
   "metadata": {},
   "source": [
    "### 7.Canvas画布"
   ]
  },
  {
   "cell_type": "code",
   "execution_count": 25,
   "metadata": {
    "collapsed": false
   },
   "outputs": [],
   "source": [
    "import tkinter as tk\n",
    "\n",
    "window = tk.Tk()\n",
    "window.title('my window')\n",
    "window.geometry('200x200')\n",
    "\n",
    "canvas = tk.Canvas(window, bg='blue', height=100, width=200)\n",
    "#image_file = tk.PhotoImage(file='ins.gif')\n",
    "#image = canvas.create_image(10, 10, anchor='nw', image=image_file)\n",
    "x0, y0, x1, y1= 50, 50, 80, 80\n",
    "line = canvas.create_line(x0, y0, x1, y1)\n",
    "oval = canvas.create_oval(x0, y0, x1, y1, fill='red')\n",
    "arc = canvas.create_arc(x0+30, y0+30, x1+30, y1+30, start=0, extent=180)\n",
    "rect = canvas.create_rectangle(100, 30, 100+20, 30+20)\n",
    "canvas.pack()\n",
    "\n",
    "def moveit():\n",
    "    canvas.move(rect, 0, 2) # x移动0，y移动2\n",
    "\n",
    "b = tk.Button(window, text='move', command=moveit).pack()\n",
    "\n",
    "\n",
    "window.mainloop()"
   ]
  },
  {
   "cell_type": "markdown",
   "metadata": {},
   "source": [
    "### 8.Menubar菜单栏"
   ]
  },
  {
   "cell_type": "code",
   "execution_count": 26,
   "metadata": {
    "collapsed": true
   },
   "outputs": [],
   "source": [
    "import tkinter as tk\n",
    "\n",
    "window = tk.Tk()\n",
    "window.title('my window')\n",
    "window.geometry('200x200')\n",
    "\n",
    "l = tk.Label(window, text='', bg='yellow')\n",
    "l.pack()\n",
    "counter = 0\n",
    "def do_job():\n",
    "    global counter\n",
    "    l.config(text='do '+ str(counter))\n",
    "    counter+=1\n",
    "\n",
    "menubar = tk.Menu(window)\n",
    "filemenu = tk.Menu(menubar, tearoff=0) # tearoff=0 被虚线分开\n",
    "menubar.add_cascade(label='File', menu=filemenu)\n",
    "filemenu.add_command(label='New', command=do_job)\n",
    "filemenu.add_command(label='Open', command=do_job)\n",
    "filemenu.add_command(label='Save', command=do_job)\n",
    "filemenu.add_separator()\n",
    "filemenu.add_command(label='Exit', command=window.quit)\n",
    "\n",
    "editmenu = tk.Menu(menubar, tearoff=0)\n",
    "menubar.add_cascade(label='Edit', menu=editmenu)\n",
    "editmenu.add_command(label='Cut', command=do_job)\n",
    "editmenu.add_command(label='Copy', command=do_job)\n",
    "editmenu.add_command(label='Paste', command=do_job)\n",
    "\n",
    "submenu = tk.Menu(filemenu)\n",
    "filemenu.add_cascade(label='Import', menu=submenu, underline=0)\n",
    "submenu.add_command(label=\"Submenu1\", command=do_job)\n",
    "\n",
    "window.config(menu=menubar)\n",
    "\n",
    "window.mainloop()"
   ]
  },
  {
   "cell_type": "markdown",
   "metadata": {},
   "source": [
    "### 9.Frame框架"
   ]
  },
  {
   "cell_type": "code",
   "execution_count": null,
   "metadata": {
    "collapsed": true
   },
   "outputs": [],
   "source": [
    "import tkinter as tk\n",
    "\n",
    "window = tk.Tk()\n",
    "window.title('my window')\n",
    "window.geometry('200x200')\n",
    "tk.Label(window, text='on the window').pack()\n",
    "\n",
    "frm = tk.Frame(window)\n",
    "frm.pack()\n",
    "frm_l = tk.Frame(frm, )\n",
    "frm_r = tk.Frame(frm)\n",
    "frm_l.pack(side='left')\n",
    "frm_r.pack(side='right')\n",
    "\n",
    "tk.Label(frm_l, text='on the frm_l1').pack()\n",
    "tk.Label(frm_l, text='on the frm_l2').pack()\n",
    "tk.Label(frm_r, text='on the frm_r1').pack()\n",
    "window.mainloop()"
   ]
  },
  {
   "cell_type": "markdown",
   "metadata": {},
   "source": [
    "### 10.Messagebox弹窗"
   ]
  },
  {
   "cell_type": "code",
   "execution_count": 28,
   "metadata": {
    "collapsed": false
   },
   "outputs": [],
   "source": [
    "import tkinter as tk\n",
    "import tkinter.messagebox\n",
    "\n",
    "window = tk.Tk()\n",
    "window.title('my window')\n",
    "window.geometry('200x200')\n",
    "\n",
    "def hit_me():\n",
    "    #tk.messagebox.showinfo(title='Hi', message='hahahaha')   # 图标是python的火箭，return 'ok'\n",
    "    #tk.messagebox.showwarning(title='Hi', message='nononono')   # 图标是感叹号，return 'ok'\n",
    "    #tk.messagebox.showerror(title='Hi', message='No!! never')   # 图标是python的火箭，return 'ok'\n",
    "    #print(tk.messagebox.askquestion(title='Hi', message='hahahaha'))   # return 'yes' , 'no'\n",
    "    #print(tk.messagebox.askyesno(title='Hi', message='hahahaha'))   # return True, False\n",
    "    print(tk.messagebox.asktrycancel(title='Hi', message='hahahaha'))   # return True, False\n",
    "    print(tk.messagebox.askokcancel(title='Hi', message='hahahaha'))   # return True, False\n",
    "    print(tk.messagebox.askyesnocancel(title=\"Hi\", message=\"haha\"))     # return, True, False, None\n",
    "\n",
    "tk.Button(window, text='hit me', command=hit_me).pack()\n",
    "window.mainloop()\n"
   ]
  },
  {
   "cell_type": "markdown",
   "metadata": {},
   "source": [
    "### 11.Position放置"
   ]
  },
  {
   "cell_type": "code",
   "execution_count": 32,
   "metadata": {
    "collapsed": false
   },
   "outputs": [],
   "source": [
    "import tkinter as tk\n",
    "\n",
    "window = tk.Tk()\n",
    "window.geometry('200x200')\n",
    "\n",
    "'''pack第一种方法'''\n",
    "tk.Label(window, text='1').pack(side='top')\n",
    "tk.Label(window, text='1').pack(side='bottom')\n",
    "tk.Label(window, text='1').pack(side='left')\n",
    "tk.Label(window, text='1').pack(side='right')\n",
    "\n",
    "window.mainloop()"
   ]
  },
  {
   "cell_type": "code",
   "execution_count": 33,
   "metadata": {
    "collapsed": true
   },
   "outputs": [],
   "source": [
    "import tkinter as tk\n",
    "\n",
    "window = tk.Tk()\n",
    "window.geometry('200x200')\n",
    "\n",
    "'''grid第二种方法'''\n",
    "for i in range(4): # 用grid放在格子里\n",
    "    for j in range(3):\n",
    "        tk.Label(window, text=1).grid(row=i, column=j, padx=10, pady=10) # padx和pady为x和y方向上的扩展\n",
    "\n",
    "'''place第三种方法'''\n",
    "tk.Label(window, text=1).place(x=20, y=10, anchor='nw') # 精准放置\n",
    "\n",
    "window.mainloop()"
   ]
  },
  {
   "cell_type": "markdown",
   "metadata": {},
   "source": [
    "### 12.登录窗口的小例子"
   ]
  },
  {
   "cell_type": "code",
   "execution_count": 34,
   "metadata": {
    "collapsed": true
   },
   "outputs": [],
   "source": [
    "import tkinter as tk\n",
    "from tkinter import messagebox  # import this to fix messagebox error\n",
    "import pickle\n",
    "\n",
    "window = tk.Tk()\n",
    "window.title('Welcome to Mofan Python')\n",
    "window.geometry('450x300')\n",
    "\n",
    "# welcome image\n",
    "canvas = tk.Canvas(window, height=200, width=500)\n",
    "image_file = tk.PhotoImage(file='welcome.gif')\n",
    "image = canvas.create_image(0,0, anchor='nw', image=image_file)\n",
    "canvas.pack(side='top')\n",
    "\n",
    "# user information\n",
    "tk.Label(window, text='User name: ').place(x=50, y= 150)\n",
    "tk.Label(window, text='Password: ').place(x=50, y= 190)\n",
    "\n",
    "var_usr_name = tk.StringVar()\n",
    "var_usr_name.set('example@python.com') # 默认值\n",
    "entry_usr_name = tk.Entry(window, textvariable=var_usr_name)\n",
    "entry_usr_name.place(x=160, y=150)\n",
    "var_usr_pwd = tk.StringVar()\n",
    "entry_usr_pwd = tk.Entry(window, textvariable=var_usr_pwd, show='*')\n",
    "entry_usr_pwd.place(x=160, y=190)\n",
    "\n",
    "def usr_login():\n",
    "    usr_name = var_usr_name.get()\n",
    "    usr_pwd = var_usr_pwd.get()\n",
    "    try:\n",
    "        with open('usrs_info.pickle', 'rb') as usr_file:\n",
    "            usrs_info = pickle.load(usr_file)\n",
    "    except FileNotFoundError:\n",
    "        with open('usrs_info.pickle', 'wb') as usr_file:\n",
    "            usrs_info = {'admin': 'admin'}\n",
    "            pickle.dump(usrs_info, usr_file)\n",
    "    if usr_name in usrs_info:\n",
    "        if usr_pwd == usrs_info[usr_name]:\n",
    "            tk.messagebox.showinfo(title='Welcome', message='How are you? ' + usr_name)\n",
    "        else:\n",
    "            tk.messagebox.showerror(message='Error, your password is wrong, try again.')\n",
    "    else:\n",
    "        is_sign_up = tk.messagebox.askyesno('Welcome',\n",
    "                               'You have not signed up yet. Sign up today?')\n",
    "        if is_sign_up:\n",
    "            usr_sign_up()\n",
    "\n",
    "def usr_sign_up():\n",
    "    def sign_to_Mofan_Python():\n",
    "        np = new_pwd.get()\n",
    "        npf = new_pwd_confirm.get()\n",
    "        nn = new_name.get()\n",
    "        with open('usrs_info.pickle', 'rb') as usr_file:\n",
    "            exist_usr_info = pickle.load(usr_file)\n",
    "        if np != npf:\n",
    "            tk.messagebox.showerror('Error', 'Password and confirm password must be the same!')\n",
    "        elif nn in exist_usr_info:\n",
    "            tk.messagebox.showerror('Error', 'The user has already signed up!')\n",
    "        else:\n",
    "            exist_usr_info[nn] = np\n",
    "            with open('usrs_info.pickle', 'wb') as usr_file:\n",
    "                pickle.dump(exist_usr_info, usr_file)\n",
    "            tk.messagebox.showinfo('Welcome', 'You have successfully signed up!')\n",
    "            window_sign_up.destroy()\n",
    "    window_sign_up = tk.Toplevel(window)\n",
    "    window_sign_up.geometry('350x200')\n",
    "    window_sign_up.title('Sign up window')\n",
    "\n",
    "    new_name = tk.StringVar()\n",
    "    new_name.set('example@python.com')\n",
    "    tk.Label(window_sign_up, text='User name: ').place(x=10, y= 10)\n",
    "    entry_new_name = tk.Entry(window_sign_up, textvariable=new_name)\n",
    "    entry_new_name.place(x=150, y=10)\n",
    "\n",
    "    new_pwd = tk.StringVar()\n",
    "    tk.Label(window_sign_up, text='Password: ').place(x=10, y=50)\n",
    "    entry_usr_pwd = tk.Entry(window_sign_up, textvariable=new_pwd, show='*')\n",
    "    entry_usr_pwd.place(x=150, y=50)\n",
    "\n",
    "    new_pwd_confirm = tk.StringVar()\n",
    "    tk.Label(window_sign_up, text='Confirm password: ').place(x=10, y= 90)\n",
    "    entry_usr_pwd_confirm = tk.Entry(window_sign_up, textvariable=new_pwd_confirm, show='*')\n",
    "    entry_usr_pwd_confirm.place(x=150, y=90)\n",
    "\n",
    "    btn_comfirm_sign_up = tk.Button(window_sign_up, text='Sign up', command=sign_to_Mofan_Python)\n",
    "    btn_comfirm_sign_up.place(x=150, y=130)\n",
    "\n",
    "# login and sign up button\n",
    "btn_login = tk.Button(window, text='Login', command=usr_login)\n",
    "btn_login.place(x=170, y=230)\n",
    "btn_sign_up = tk.Button(window, text='Sign up', command=usr_sign_up)\n",
    "btn_sign_up.place(x=270, y=230)\n",
    "\n",
    "window.mainloop()"
   ]
  }
 ],
 "metadata": {
  "anaconda-cloud": {},
  "kernelspec": {
   "display_name": "Python [conda root]",
   "language": "python",
   "name": "conda-root-py"
  },
  "language_info": {
   "codemirror_mode": {
    "name": "ipython",
    "version": 3
   },
   "file_extension": ".py",
   "mimetype": "text/x-python",
   "name": "python",
   "nbconvert_exporter": "python",
   "pygments_lexer": "ipython3",
   "version": "3.5.2"
  }
 },
 "nbformat": 4,
 "nbformat_minor": 2
}

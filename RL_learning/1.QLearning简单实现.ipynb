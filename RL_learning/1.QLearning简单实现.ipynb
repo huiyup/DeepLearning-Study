{
 "cells": [
  {
   "cell_type": "markdown",
   "metadata": {},
   "source": [
    "## QLearning简单的实现\n",
    "\n",
    "利用探索者从左到右去寻找最右端的宝藏<br>\n",
    "* ACTIONS：向左或者向右<br>\n",
    "* N_STATES：从最左端0到最右端terminate-6，共6个状态<br>\n",
    "* Reward 代表在状态s做出动作a时给予的奖励（若s=5时向右为1，其他均为0）"
   ]
  },
  {
   "cell_type": "markdown",
   "metadata": {},
   "source": [
    "### 具体算法\n",
    "初始化Q(s,a)表格，其中s是状态，a是动作<br>\n",
    "Repeat (for each eposode):<br>\n",
    "&#160;&#160;&#160;&#160; 初始化 s<br>\n",
    "&#160;&#160;&#160;&#160; Repeat (for each step of eposode):<br>\n",
    "&#160;&#160;&#160;&#160;&#160;&#160;&#160;&#160; 从Q表格中根据当前状态s选择动作a（在$\\epsilon = 0.9$ 的概率下，否则随机选择动作）<br>\n",
    "&#160;&#160;&#160;&#160;&#160;&#160;&#160;&#160; 根据动作a，得到当前的观察r和状态s'<br>\n",
    "&#160;&#160;&#160;&#160;&#160;&#160;&#160;&#160; $Q(s,a) = Q(s,a) + \\alpha [r + \\gamma max_{a'}Q(s',a')-Q(s,a)]$ 这里a表示动作、s表示状态；s'和a'表示下一个状态和动作<br>\n",
    "&#160;&#160;&#160;&#160;&#160;&#160;&#160;&#160; s = s'<br>\n",
    "&#160;&#160;&#160;&#160;&#160;&#160;&#160;&#160; 直到s是终点，结束循环<br>\n"
   ]
  },
  {
   "cell_type": "code",
   "execution_count": 1,
   "metadata": {
    "collapsed": true
   },
   "outputs": [],
   "source": [
    "import numpy as np\n",
    "import pandas as pd\n",
    "import time\n",
    "\n",
    "np.random.seed(2)  # reproducible\n",
    "\n",
    "N_STATES = 6   # the length of the 1 dimensional world\n",
    "ACTIONS = ['left', 'right']     # available actions\n",
    "EPSILON = 0.9   # greedy police\n",
    "ALPHA = 0.1     # learning rate\n",
    "GAMMA = 0.9    # discount factor\n",
    "MAX_EPISODES = 13   # maximum episodes\n",
    "FRESH_TIME = 0.3    # fresh time for one move"
   ]
  },
  {
   "cell_type": "markdown",
   "metadata": {},
   "source": [
    "### 建立空的Q表格"
   ]
  },
  {
   "cell_type": "code",
   "execution_count": 2,
   "metadata": {
    "collapsed": false
   },
   "outputs": [
    {
     "data": {
      "text/html": [
       "<div>\n",
       "<style scoped>\n",
       "    .dataframe tbody tr th:only-of-type {\n",
       "        vertical-align: middle;\n",
       "    }\n",
       "\n",
       "    .dataframe tbody tr th {\n",
       "        vertical-align: top;\n",
       "    }\n",
       "\n",
       "    .dataframe thead th {\n",
       "        text-align: right;\n",
       "    }\n",
       "</style>\n",
       "<table border=\"1\" class=\"dataframe\">\n",
       "  <thead>\n",
       "    <tr style=\"text-align: right;\">\n",
       "      <th></th>\n",
       "      <th>left</th>\n",
       "      <th>right</th>\n",
       "    </tr>\n",
       "  </thead>\n",
       "  <tbody>\n",
       "    <tr>\n",
       "      <th>0</th>\n",
       "      <td>0.0</td>\n",
       "      <td>0.0</td>\n",
       "    </tr>\n",
       "    <tr>\n",
       "      <th>1</th>\n",
       "      <td>0.0</td>\n",
       "      <td>0.0</td>\n",
       "    </tr>\n",
       "    <tr>\n",
       "      <th>2</th>\n",
       "      <td>0.0</td>\n",
       "      <td>0.0</td>\n",
       "    </tr>\n",
       "    <tr>\n",
       "      <th>3</th>\n",
       "      <td>0.0</td>\n",
       "      <td>0.0</td>\n",
       "    </tr>\n",
       "    <tr>\n",
       "      <th>4</th>\n",
       "      <td>0.0</td>\n",
       "      <td>0.0</td>\n",
       "    </tr>\n",
       "    <tr>\n",
       "      <th>5</th>\n",
       "      <td>0.0</td>\n",
       "      <td>0.0</td>\n",
       "    </tr>\n",
       "  </tbody>\n",
       "</table>\n",
       "</div>"
      ],
      "text/plain": [
       "   left  right\n",
       "0   0.0    0.0\n",
       "1   0.0    0.0\n",
       "2   0.0    0.0\n",
       "3   0.0    0.0\n",
       "4   0.0    0.0\n",
       "5   0.0    0.0"
      ]
     },
     "execution_count": 2,
     "metadata": {},
     "output_type": "execute_result"
    }
   ],
   "source": [
    "def build_q_table(n_states, actions):\n",
    "    table = pd.DataFrame(\n",
    "        np.zeros((n_states, len(actions))),     # q_table initial values\n",
    "        columns=actions,    # actions's name\n",
    "    )\n",
    "    # print(table)    # show table\n",
    "    return table\n",
    "\n",
    "build_q_table(N_STATES,ACTIONS)"
   ]
  },
  {
   "cell_type": "markdown",
   "metadata": {},
   "source": [
    "### 根据当前状态和Q表格选择下一步的动作\n",
    "假设在状态0时候向左的reward是-1，向右的是0"
   ]
  },
  {
   "cell_type": "code",
   "execution_count": 3,
   "metadata": {
    "collapsed": false
   },
   "outputs": [
    {
     "data": {
      "text/plain": [
       "'right'"
      ]
     },
     "execution_count": 3,
     "metadata": {},
     "output_type": "execute_result"
    }
   ],
   "source": [
    "def choose_action(state, q_table):\n",
    "    # This is how to choose an action\n",
    "    state_actions = q_table.iloc[state, :]\n",
    "    if (np.random.uniform() > EPSILON) or ((state_actions == 0).all()):  # act non-greedy or state-action have no value\n",
    "        action_name = np.random.choice(ACTIONS)\n",
    "    else:   # act greedy\n",
    "        action_name = state_actions.idxmax()    # replace argmax to idxmax as argmax means a different function in newer version of pandas\n",
    "    return action_name\n",
    "\n",
    "q_table = build_q_table(N_STATES,ACTIONS)\n",
    "q_table['left'][0] = -1\n",
    "choose_action(0, q_table)"
   ]
  },
  {
   "cell_type": "markdown",
   "metadata": {},
   "source": [
    "### 更新状态，得到下一步的状态$s'$和奖赏Reward\n",
    "如果在terminate的前面一步选择向右，则R=1，否则都为0；如果在状态0的时候继续向左，默认继续为状态0"
   ]
  },
  {
   "cell_type": "code",
   "execution_count": 14,
   "metadata": {
    "collapsed": false
   },
   "outputs": [
    {
     "name": "stdout",
     "output_type": "stream",
     "text": [
      "(4, 0)\n",
      "('terminal', 1)\n"
     ]
    }
   ],
   "source": [
    "def get_env_feedback(S, A):\n",
    "    # This is how agent will interact with the environment\n",
    "    if A == 'right':    # move right\n",
    "        if S == N_STATES - 2:   # terminate\n",
    "            S_ = 'terminal'\n",
    "            R = 1\n",
    "        else:\n",
    "            S_ = S + 1\n",
    "            R = 0\n",
    "    else:   # move left\n",
    "        R = 0\n",
    "        if S == 0:\n",
    "            S_ = S  # reach the wall\n",
    "        else:\n",
    "            S_ = S - 1\n",
    "    return S_, R\n",
    "\n",
    "print(get_env_feedback(3, 'right'))\n",
    "print(get_env_feedback(4, 'right'))"
   ]
  },
  {
   "cell_type": "markdown",
   "metadata": {},
   "source": [
    "### 更新环境\n",
    "\n",
    "利用--o--T的样式来记录环境。初始为---------T，o代表当前的状态，T代表teminate"
   ]
  },
  {
   "cell_type": "code",
   "execution_count": 7,
   "metadata": {
    "collapsed": false
   },
   "outputs": [
    {
     "name": "stdout",
     "output_type": "stream",
     "text": [
      "--o--T"
     ]
    }
   ],
   "source": [
    "def update_env(S, episode, step_counter):\n",
    "    # This is how environment be updated\n",
    "    env_list = ['-']*(N_STATES-1) + ['T']   # '---------T' our environment\n",
    "    if S == 'terminal':\n",
    "        print('\\rEpisode %s: total_steps = %s' % (episode+1, step_counter))\n",
    "        interaction = 'Episode %s: total_steps = %s' % (episode+1, step_counter)\n",
    "        print('\\r{}'.format(interaction), end='')\n",
    "        time.sleep(2)\n",
    "        print('\\r                                ', end='')\n",
    "    else:\n",
    "        env_list[S] = 'o'\n",
    "        interaction = ''.join(env_list)\n",
    "        print('\\r{}'.format(interaction), end='')\n",
    "        time.sleep(FRESH_TIME)\n",
    "        \n",
    "update_env(0, 0.9, 0)\n",
    "update_env(1, 0.9, 1)\n",
    "update_env(2, 0.9, 2)"
   ]
  },
  {
   "cell_type": "markdown",
   "metadata": {},
   "source": [
    "### 实现QLearning的主干部分\n",
    "$Q(s,a) = Q(s,a) + \\alpha [r + \\gamma max_{a'}Q(s',a')-Q(s,a)]$<br>\n",
    "\n",
    "$Q(s',a')$即q_target，$Q(s,a)$即q_predict，$r$为reward，$\\gamma$ 为衰减系数，$\\alpha$ 为学习率"
   ]
  },
  {
   "cell_type": "code",
   "execution_count": 21,
   "metadata": {
    "collapsed": true
   },
   "outputs": [],
   "source": [
    "def rl():\n",
    "    # main part of RL loop\n",
    "    q_table = build_q_table(N_STATES, ACTIONS)\n",
    "    for episode in range(MAX_EPISODES):\n",
    "        step_counter = 0\n",
    "        S = 0\n",
    "        is_terminated = False\n",
    "        update_env(S, episode, step_counter)\n",
    "        while not is_terminated:\n",
    "\n",
    "            A = choose_action(S, q_table)\n",
    "            S_, R = get_env_feedback(S, A)  # take action & get next state and reward\n",
    "            q_predict = q_table.loc[S, A]\n",
    "            if S_ != 'terminal':\n",
    "                q_target = R + GAMMA * q_table.iloc[S_, :].max()   # next state is not terminal\n",
    "            else:\n",
    "                q_target = R     # next state is terminal\n",
    "                is_terminated = True    # terminate this episode\n",
    "\n",
    "            q_table.loc[S, A] += ALPHA * (q_target - q_predict)  # update\n",
    "            S = S_  # move to next state\n",
    "\n",
    "            update_env(S, episode, step_counter+1)\n",
    "            step_counter += 1\n",
    "        print('\\r\\nQ-table:\\n')\n",
    "        print(q_table)\n",
    "        print('\\r')\n",
    "    return q_table"
   ]
  },
  {
   "cell_type": "code",
   "execution_count": 22,
   "metadata": {
    "collapsed": false,
    "scrolled": false
   },
   "outputs": [
    {
     "name": "stdout",
     "output_type": "stream",
     "text": [
      "Episode 1: total_steps = 31\n",
      "                                \n",
      "Q-table:\n",
      "\n",
      "   left  right\n",
      "0   0.0    0.0\n",
      "1   0.0    0.0\n",
      "2   0.0    0.0\n",
      "3   0.0    0.0\n",
      "4   0.0    0.1\n",
      "5   0.0    0.0\n",
      "\n",
      "Episode 2: total_steps = 10\n",
      "                                \n",
      "Q-table:\n",
      "\n",
      "   left  right\n",
      "0   0.0  0.000\n",
      "1   0.0  0.000\n",
      "2   0.0  0.000\n",
      "3   0.0  0.009\n",
      "4   0.0  0.190\n",
      "5   0.0  0.000\n",
      "\n",
      "Episode 3: total_steps = 19\n",
      "                                \n",
      "Q-table:\n",
      "\n",
      "   left    right\n",
      "0   0.0  0.00000\n",
      "1   0.0  0.00000\n",
      "2   0.0  0.00081\n",
      "3   0.0  0.02520\n",
      "4   0.0  0.27100\n",
      "5   0.0  0.00000\n",
      "\n",
      "Episode 4: total_steps = 14\n",
      "                                \n",
      "Q-table:\n",
      "\n",
      "   left     right\n",
      "0   0.0  0.000000\n",
      "1   0.0  0.000073\n",
      "2   0.0  0.002997\n",
      "3   0.0  0.047070\n",
      "4   0.0  0.343900\n",
      "5   0.0  0.000000\n",
      "\n",
      "Episode 5: total_steps = 6\n",
      "                                \n",
      "Q-table:\n",
      "\n",
      "   left     right\n",
      "0   0.0  0.000007\n",
      "1   0.0  0.000335\n",
      "2   0.0  0.006934\n",
      "3   0.0  0.073314\n",
      "4   0.0  0.409510\n",
      "5   0.0  0.000000\n",
      "\n",
      "Episode 6: total_steps = 5\n",
      "                                \n",
      "Q-table:\n",
      "\n",
      "   left     right\n",
      "0   0.0  0.000036\n",
      "1   0.0  0.000926\n",
      "2   0.0  0.012839\n",
      "3   0.0  0.102839\n",
      "4   0.0  0.468559\n",
      "5   0.0  0.000000\n",
      "\n",
      "Episode 7: total_steps = 5\n",
      "                                \n",
      "Q-table:\n",
      "\n",
      "   left     right\n",
      "0   0.0  0.000116\n",
      "1   0.0  0.001989\n",
      "2   0.0  0.020810\n",
      "3   0.0  0.134725\n",
      "4   0.0  0.521703\n",
      "5   0.0  0.000000\n",
      "\n",
      "Episode 8: total_steps = 5\n",
      "                                \n",
      "Q-table:\n",
      "\n",
      "   left     right\n",
      "0   0.0  0.000283\n",
      "1   0.0  0.003663\n",
      "2   0.0  0.030854\n",
      "3   0.0  0.168206\n",
      "4   0.0  0.569533\n",
      "5   0.0  0.000000\n",
      "\n",
      "Episode 9: total_steps = 5\n",
      "                                \n",
      "Q-table:\n",
      "\n",
      "   left     right\n",
      "0   0.0  0.000585\n",
      "1   0.0  0.006073\n",
      "2   0.0  0.042907\n",
      "3   0.0  0.202643\n",
      "4   0.0  0.612580\n",
      "5   0.0  0.000000\n",
      "\n",
      "Episode 10: total_steps = 5\n",
      "                                \n",
      "Q-table:\n",
      "\n",
      "   left     right\n",
      "0   0.0  0.001073\n",
      "1   0.0  0.009328\n",
      "2   0.0  0.056855\n",
      "3   0.0  0.237511\n",
      "4   0.0  0.651322\n",
      "5   0.0  0.000000\n",
      "\n",
      "Episode 11: total_steps = 5\n",
      "                                \n",
      "Q-table:\n",
      "\n",
      "   left     right\n",
      "0   0.0  0.001805\n",
      "1   0.0  0.013512\n",
      "2   0.0  0.072545\n",
      "3   0.0  0.272379\n",
      "4   0.0  0.686189\n",
      "5   0.0  0.000000\n",
      "\n",
      "Episode 12: total_steps = 5\n",
      "                                \n",
      "Q-table:\n",
      "\n",
      "   left     right\n",
      "0   0.0  0.002840\n",
      "1   0.0  0.018690\n",
      "2   0.0  0.089805\n",
      "3   0.0  0.306898\n",
      "4   0.0  0.717570\n",
      "5   0.0  0.000000\n",
      "\n",
      "Episode 13: total_steps = 9\n",
      "                                \n",
      "Q-table:\n",
      "\n",
      "       left     right\n",
      "0  0.000000  0.004239\n",
      "1  0.000000  0.030495\n",
      "2  0.002241  0.125221\n",
      "3  0.009760  0.340790\n",
      "4  0.000000  0.745813\n",
      "5  0.000000  0.000000\n",
      "\n"
     ]
    }
   ],
   "source": [
    "q_table = rl()"
   ]
  }
 ],
 "metadata": {
  "anaconda-cloud": {},
  "kernelspec": {
   "display_name": "Python [conda root]",
   "language": "python",
   "name": "conda-root-py"
  },
  "language_info": {
   "codemirror_mode": {
    "name": "ipython",
    "version": 3
   },
   "file_extension": ".py",
   "mimetype": "text/x-python",
   "name": "python",
   "nbconvert_exporter": "python",
   "pygments_lexer": "ipython3",
   "version": "3.5.2"
  }
 },
 "nbformat": 4,
 "nbformat_minor": 2
}
